{
  "nbformat": 4,
  "nbformat_minor": 0,
  "metadata": {
    "colab": {
      "name": "intro.ipynb",
      "provenance": [],
      "authorship_tag": "ABX9TyMCxU0HbKHrnEpGQox5D/qH",
      "include_colab_link": true
    },
    "kernelspec": {
      "name": "python3",
      "display_name": "Python 3"
    },
    "language_info": {
      "name": "python"
    }
  },
  "cells": [
    {
      "cell_type": "markdown",
      "metadata": {
        "id": "view-in-github",
        "colab_type": "text"
      },
      "source": [
        "<a href=\"https://colab.research.google.com/github/WilliamsonChoi/test-colab/blob/main/template.ipynb\" target=\"_parent\"><img src=\"https://colab.research.google.com/assets/colab-badge.svg\" alt=\"Open In Colab\"/></a>"
      ]
    },
    {
      "cell_type": "markdown",
      "source": [
        "### Sales"
      ],
      "metadata": {
        "id": "zqSdFksVyUs3"
      }
    },
    {
      "cell_type": "code",
      "execution_count": null,
      "metadata": {
        "colab": {
          "base_uri": "https://localhost:8080/"
        },
        "id": "mzgK8F7VXap4",
        "outputId": "24906761-b33a-430a-81a0-ffffaf62803a"
      },
      "outputs": [
        {
          "output_type": "stream",
          "name": "stdout",
          "text": [
            "Hello world\n"
          ]
        }
      ],
      "source": [
        " print('Hello world')"
      ]
    },
    {
      "cell_type": "code",
      "source": [
        "async"
      ],
      "metadata": {
        "id": "KvKBvC9TyHz2"
      },
      "execution_count": null,
      "outputs": []
    },
    {
      "cell_type": "code",
      "source": [
        "print('Hello World')"
      ],
      "metadata": {
        "colab": {
          "base_uri": "https://localhost:8080/"
        },
        "id": "ZiKZRH8Qw7Sw",
        "outputId": "fa124aa1-a2ef-427a-862d-a265cb83327f"
      },
      "execution_count": 1,
      "outputs": [
        {
          "output_type": "stream",
          "name": "stdout",
          "text": [
            "Hello World\n"
          ]
        }
      ]
    },
    {
      "cell_type": "code",
      "source": [
        "revenue = 10000\n",
        "tax = 0.19\n",
        "income = revenue * tax\n",
        "income"
      ],
      "metadata": {
        "colab": {
          "base_uri": "https://localhost:8080/"
        },
        "id": "dnK0HcUUyHcP",
        "outputId": "0fbef25f-ac83-40ab-baa2-2a0ddcff5421"
      },
      "execution_count": 2,
      "outputs": [
        {
          "output_type": "execute_result",
          "data": {
            "text/plain": [
              "1900.0"
            ]
          },
          "metadata": {},
          "execution_count": 2
        }
      ]
    },
    {
      "cell_type": "markdown",
      "source": [
        "### Summary"
      ],
      "metadata": {
        "id": "RM5aDGsyyIkX"
      }
    },
    {
      "cell_type": "code",
      "source": [
        "import numpy as np\n",
        "np.__version__"
      ],
      "metadata": {
        "colab": {
          "base_uri": "https://localhost:8080/",
          "height": 35
        },
        "id": "YGnnmfvAyeEU",
        "outputId": "1177660a-efc9-4d32-8175-aa6ab9e8d047"
      },
      "execution_count": 7,
      "outputs": [
        {
          "output_type": "execute_result",
          "data": {
            "text/plain": [
              "'1.21.6'"
            ],
            "application/vnd.google.colaboratory.intrinsic+json": {
              "type": "string"
            }
          },
          "metadata": {},
          "execution_count": 7
        }
      ]
    },
    {
      "cell_type": "code",
      "source": [
        "np.random.rand?"
      ],
      "metadata": {
        "id": "nMDvjRU_ypZW"
      },
      "execution_count": 9,
      "outputs": []
    },
    {
      "cell_type": "code",
      "source": [
        "!pip install imageai"
      ],
      "metadata": {
        "colab": {
          "base_uri": "https://localhost:8080/",
          "height": 1000
        },
        "id": "TG2TItrlywFo",
        "outputId": "d04abb18-9e46-46a1-efd8-c8922eb8749e"
      },
      "execution_count": 10,
      "outputs": [
        {
          "output_type": "stream",
          "name": "stdout",
          "text": [
            "Looking in indexes: https://pypi.org/simple, https://us-python.pkg.dev/colab-wheels/public/simple/\n",
            "Collecting imageai\n",
            "  Downloading imageai-2.1.6-py3-none-any.whl (160 kB)\n",
            "\u001b[K     |████████████████████████████████| 160 kB 3.9 MB/s \n",
            "\u001b[?25hCollecting keras-resnet==0.2.0\n",
            "  Downloading keras-resnet-0.2.0.tar.gz (9.3 kB)\n",
            "Requirement already satisfied: opencv-python in /usr/local/lib/python3.7/dist-packages (from imageai) (4.1.2.30)\n",
            "Collecting numpy==1.19.3\n",
            "  Downloading numpy-1.19.3-cp37-cp37m-manylinux2010_x86_64.whl (14.9 MB)\n",
            "\u001b[K     |████████████████████████████████| 14.9 MB 39.3 MB/s \n",
            "\u001b[?25hCollecting pillow==7.0.0\n",
            "  Downloading Pillow-7.0.0-cp37-cp37m-manylinux1_x86_64.whl (2.1 MB)\n",
            "\u001b[K     |████████████████████████████████| 2.1 MB 43.2 MB/s \n",
            "\u001b[?25hCollecting keras==2.4.3\n",
            "  Downloading Keras-2.4.3-py2.py3-none-any.whl (36 kB)\n",
            "Requirement already satisfied: scipy==1.4.1 in /usr/local/lib/python3.7/dist-packages (from imageai) (1.4.1)\n",
            "Collecting matplotlib==3.3.2\n",
            "  Downloading matplotlib-3.3.2-cp37-cp37m-manylinux1_x86_64.whl (11.6 MB)\n",
            "\u001b[K     |████████████████████████████████| 11.6 MB 36.3 MB/s \n",
            "\u001b[?25hCollecting h5py==2.10.0\n",
            "  Downloading h5py-2.10.0-cp37-cp37m-manylinux1_x86_64.whl (2.9 MB)\n",
            "\u001b[K     |████████████████████████████████| 2.9 MB 49.2 MB/s \n",
            "\u001b[?25hRequirement already satisfied: six in /usr/local/lib/python3.7/dist-packages (from h5py==2.10.0->imageai) (1.15.0)\n",
            "Requirement already satisfied: pyyaml in /usr/local/lib/python3.7/dist-packages (from keras==2.4.3->imageai) (3.13)\n",
            "Requirement already satisfied: python-dateutil>=2.1 in /usr/local/lib/python3.7/dist-packages (from matplotlib==3.3.2->imageai) (2.8.2)\n",
            "Requirement already satisfied: kiwisolver>=1.0.1 in /usr/local/lib/python3.7/dist-packages (from matplotlib==3.3.2->imageai) (1.4.3)\n",
            "Requirement already satisfied: certifi>=2020.06.20 in /usr/local/lib/python3.7/dist-packages (from matplotlib==3.3.2->imageai) (2022.6.15)\n",
            "Requirement already satisfied: pyparsing!=2.0.4,!=2.1.2,!=2.1.6,>=2.0.3 in /usr/local/lib/python3.7/dist-packages (from matplotlib==3.3.2->imageai) (3.0.9)\n",
            "Requirement already satisfied: cycler>=0.10 in /usr/local/lib/python3.7/dist-packages (from matplotlib==3.3.2->imageai) (0.11.0)\n",
            "Requirement already satisfied: typing-extensions in /usr/local/lib/python3.7/dist-packages (from kiwisolver>=1.0.1->matplotlib==3.3.2->imageai) (4.1.1)\n",
            "Building wheels for collected packages: keras-resnet\n",
            "  Building wheel for keras-resnet (setup.py) ... \u001b[?25l\u001b[?25hdone\n",
            "  Created wheel for keras-resnet: filename=keras_resnet-0.2.0-py2.py3-none-any.whl size=20486 sha256=bc4acc8f8f7295ebaa4ae3abf671af4d3749b5ec4b087bb7b3cec8088fcf4047\n",
            "  Stored in directory: /root/.cache/pip/wheels/bd/ef/06/5d65f696360436c3a423020c4b7fd8c558c09ef264a0e6c575\n",
            "Successfully built keras-resnet\n",
            "Installing collected packages: numpy, h5py, pillow, keras, matplotlib, keras-resnet, imageai\n",
            "  Attempting uninstall: numpy\n",
            "    Found existing installation: numpy 1.21.6\n",
            "    Uninstalling numpy-1.21.6:\n",
            "      Successfully uninstalled numpy-1.21.6\n",
            "  Attempting uninstall: h5py\n",
            "    Found existing installation: h5py 3.1.0\n",
            "    Uninstalling h5py-3.1.0:\n",
            "      Successfully uninstalled h5py-3.1.0\n",
            "  Attempting uninstall: pillow\n",
            "    Found existing installation: Pillow 7.1.2\n",
            "    Uninstalling Pillow-7.1.2:\n",
            "      Successfully uninstalled Pillow-7.1.2\n",
            "  Attempting uninstall: keras\n",
            "    Found existing installation: keras 2.8.0\n",
            "    Uninstalling keras-2.8.0:\n",
            "      Successfully uninstalled keras-2.8.0\n",
            "  Attempting uninstall: matplotlib\n",
            "    Found existing installation: matplotlib 3.2.2\n",
            "    Uninstalling matplotlib-3.2.2:\n",
            "      Successfully uninstalled matplotlib-3.2.2\n",
            "\u001b[31mERROR: pip's dependency resolver does not currently take into account all the packages that are installed. This behaviour is the source of the following dependency conflicts.\n",
            "xarray-einstats 0.2.2 requires numpy>=1.21, but you have numpy 1.19.3 which is incompatible.\n",
            "tensorflow 2.8.2+zzzcolab20220527125636 requires keras<2.9,>=2.8.0rc0, but you have keras 2.4.3 which is incompatible.\n",
            "tensorflow 2.8.2+zzzcolab20220527125636 requires numpy>=1.20, but you have numpy 1.19.3 which is incompatible.\n",
            "datascience 0.10.6 requires folium==0.2.1, but you have folium 0.8.3 which is incompatible.\n",
            "bokeh 2.3.3 requires pillow>=7.1.0, but you have pillow 7.0.0 which is incompatible.\n",
            "albumentations 0.1.12 requires imgaug<0.2.7,>=0.2.5, but you have imgaug 0.2.9 which is incompatible.\u001b[0m\n",
            "Successfully installed h5py-2.10.0 imageai-2.1.6 keras-2.4.3 keras-resnet-0.2.0 matplotlib-3.3.2 numpy-1.19.3 pillow-7.0.0\n"
          ]
        },
        {
          "output_type": "display_data",
          "data": {
            "application/vnd.colab-display-data+json": {
              "pip_warning": {
                "packages": [
                  "PIL",
                  "matplotlib",
                  "mpl_toolkits",
                  "numpy"
                ]
              }
            }
          },
          "metadata": {}
        }
      ]
    },
    {
      "cell_type": "code",
      "source": [
        "import imageai"
      ],
      "metadata": {
        "id": "1uPBjWrZyy9c"
      },
      "execution_count": 11,
      "outputs": []
    },
    {
      "cell_type": "markdown",
      "source": [
        "###Markdwon"
      ],
      "metadata": {
        "id": "6pRfav1Ry5Zg"
      }
    },
    {
      "cell_type": "markdown",
      "source": [
        ""
      ],
      "metadata": {
        "id": "Whp16vxIzF7r"
      }
    },
    {
      "cell_type": "markdown",
      "source": [
        "Example of *markdown*\n",
        "\n",
        "Example of **markdwon**\n",
        "\n",
        "Example of __markdown__\n",
        "\n",
        "Example of `markdown`\n",
        "\n",
        "```\n",
        "Example of markdown\n",
        "```\n",
        "\n"
      ],
      "metadata": {
        "id": "NeuRq6LMy_wc"
      }
    },
    {
      "cell_type": "markdown",
      "source": [
        "> Python\n",
        ">>> Code"
      ],
      "metadata": {
        "id": "WDQWJNmTzFTE"
      }
    },
    {
      "cell_type": "markdown",
      "source": [
        "An ordered list:\n",
        "1. One\n",
        "2. Two\n",
        "3. Three"
      ],
      "metadata": {
        "id": "SODBNJZIzwuM"
      }
    },
    {
      "cell_type": "markdown",
      "source": [
        "An unordred list:\n",
        "* One\n",
        "* Two\n",
        "* Three"
      ],
      "metadata": {
        "id": "JekVXWItz2B8"
      }
    },
    {
      "cell_type": "markdown",
      "source": [
        "Add link\n",
        "[Github](https://github.com/jinilcs/webcam-model)"
      ],
      "metadata": {
        "id": "xpmTPkYLz9z8"
      }
    },
    {
      "cell_type": "markdown",
      "source": [
        "![Python](data:image/jpeg;base64,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)"
      ],
      "metadata": {
        "id": "y3wXXhFPz9xV"
      }
    },
    {
      "cell_type": "markdown",
      "source": [
        "$y - x^2$\n",
        "\n",
        "$\\frac{1}{n} \\sum_{i=1}{n}x_{i}$"
      ],
      "metadata": {
        "id": "ngyByGWXz9ur"
      }
    },
    {
      "cell_type": "markdown",
      "source": [
        "$A =\\begin{pmatrix}\n",
        "a_{1, 1} & a_{1,2} \\\\\n",
        "a_{2, a} & a_{2, 2}\n",
        "\\end{pmatrix}$"
      ],
      "metadata": {
        "id": "CkkYEqQMz9jD"
      }
    },
    {
      "cell_type": "markdown",
      "source": [
        "col1|col|col3|\n",
        "---|---|---|\n",
        "val1|val2|val3|\n",
        "val4||val5|val6"
      ],
      "metadata": {
        "id": "wPAWjxEY2RqL"
      }
    }
  ]
}